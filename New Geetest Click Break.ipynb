{
 "cells": [
  {
   "cell_type": "markdown",
   "metadata": {},
   "source": [
    "# Notebook on cracking geetest CAPTCHA \n",
    "# This Notebook is for educational only\n",
    "# Author: Joe Ho\n",
    "# Date: 5, January, 2020"
   ]
  },
  {
   "cell_type": "markdown",
   "metadata": {},
   "source": [
    "## Import Library"
   ]
  },
  {
   "cell_type": "code",
   "execution_count": 1,
   "metadata": {},
   "outputs": [],
   "source": [
    "import sys\n",
    "import cv2\n",
    "import time\n",
    "import numpy as np\n",
    "from PIL import Image\n",
    "import urllib.request\n",
    "\n",
    "import matplotlib.pyplot as plt\n",
    "import matplotlib.patches as patches\n",
    "from random import randint\n",
    "\n",
    "from scipy import ndimage, misc\n",
    "from scipy.spatial.distance import hamming\n",
    "\n",
    "from selenium import webdriver\n",
    "\n",
    "from auxiliary_function import draw_bounding_box, find_bounding_box, segment_pictures"
   ]
  },
  {
   "cell_type": "code",
   "execution_count": 2,
   "metadata": {
    "scrolled": true
   },
   "outputs": [],
   "source": [
    "# Uncomment this part for real Geetest CAPTCHA\n",
    "\n",
    "\n",
    "image_path = \".//image//\"+str(time.time())+\".jpg\"\n",
    "\n",
    "driver = webdriver.Chrome() \n",
    "\n",
    "# driver.get(\"https://www.geetest.com/en\")  # Old Path\n",
    "driver.get(\"https://www.geetest.com/show\")  "
   ]
  },
  {
   "cell_type": "code",
   "execution_count": 3,
   "metadata": {},
   "outputs": [
    {
     "name": "stdout",
     "output_type": "stream",
     "text": [
      "capcha1 =  <selenium.webdriver.remote.webelement.WebElement (session=\"a609345b0221d35f7da492d25d49e0e9\", element=\"f28965ec-2a21-417c-8dd6-909286b2fa2e\")>\n",
      "img =  <selenium.webdriver.remote.webelement.WebElement (session=\"a609345b0221d35f7da492d25d49e0e9\", element=\"938906d7-4f9b-4e30-a9a0-e8d1086229d6\")>\n"
     ]
    },
    {
     "data": {
      "text/plain": [
       "('.//image//1624612709.3534606.jpg',\n",
       " <http.client.HTTPMessage at 0x1dd59de1190>)"
      ]
     },
     "execution_count": 3,
     "metadata": {},
     "output_type": "execute_result"
    }
   ],
   "source": [
    "# Uncomment this part for real Geetest CAPTCHA\n",
    "\n",
    "\n",
    "time.sleep(3)\n",
    "\n",
    "selected_geetest = driver.find_element_by_xpath(\n",
    "            \"\"\"//*[@id=\"gt-show-mobile\"]/div/section[1]/div/div/div[4]\"\"\")\n",
    "selected_geetest.click()\n",
    "\n",
    "time.sleep(3)\n",
    "capcha1 = driver.find_element_by_xpath(\n",
    "            \"\"\"//*[@id=\"captcha\"]/div[3]/div[2]\"\"\")\n",
    "print(\"capcha1 = \", capcha1)\n",
    "capcha1.click()\n",
    "\n",
    "time.sleep(3)\n",
    "img = driver.find_element_by_class_name(\"geetest_item_img\")\n",
    "print(\"img = \", img)\n",
    "src = img.get_attribute('src')\n",
    "\n",
    "# download the image\n",
    "urllib.request.urlretrieve(src, image_path)"
   ]
  },
  {
   "cell_type": "code",
   "execution_count": 4,
   "metadata": {},
   "outputs": [],
   "source": [
    "# # Comment this part for real Geetest CAPTCHA\n",
    "# image_path = \"demo.jpg\" "
   ]
  },
  {
   "cell_type": "markdown",
   "metadata": {},
   "source": [
    "## Load geetest Image"
   ]
  },
  {
   "cell_type": "code",
   "execution_count": 5,
   "metadata": {},
   "outputs": [],
   "source": [
    "img_grey = cv2.imread(image_path,0)\n",
    "# Image.fromarray(img_grey)"
   ]
  },
  {
   "cell_type": "markdown",
   "metadata": {},
   "source": [
    "## Image Preprocessing (Main Pane)"
   ]
  },
  {
   "cell_type": "code",
   "execution_count": 6,
   "metadata": {
    "scrolled": true
   },
   "outputs": [],
   "source": [
    "# crop image\n",
    "main_pane = img_grey[:350,:]\n",
    "\n",
    "# Image preprocessing\n",
    "\n",
    "color_threshold = 180\n",
    "main_pane = cv2.blur(main_pane,(3,3)) # By blurring, we can remove some white pixels which may affecting the matching\n",
    "main_pane[main_pane<color_threshold] = 0\n",
    "main_pane[main_pane>=color_threshold] = 255\n",
    "# Image.fromarray(main_pane)"
   ]
  },
  {
   "cell_type": "markdown",
   "metadata": {},
   "source": [
    "## Locate icons"
   ]
  },
  {
   "cell_type": "code",
   "execution_count": 7,
   "metadata": {
    "scrolled": true
   },
   "outputs": [],
   "source": [
    "icons_rect_coordinates = find_bounding_box(main_pane, (20,20), (100,100),sort=False)\n",
    "icons = segment_pictures(main_pane,icons_rect_coordinates,(30,30))"
   ]
  },
  {
   "cell_type": "code",
   "execution_count": 8,
   "metadata": {},
   "outputs": [],
   "source": [
    "# draw_bounding_box(main_pane, icons_rect_coordinates)    "
   ]
  },
  {
   "cell_type": "markdown",
   "metadata": {},
   "source": [
    "## Image Preprocessing (Target Pane)"
   ]
  },
  {
   "cell_type": "code",
   "execution_count": 9,
   "metadata": {},
   "outputs": [],
   "source": [
    "target_color_threshold = 40\n",
    "target_pane = 255 - img_grey[350:,:]\n",
    "target_pane[target_pane<target_color_threshold] = 0\n",
    "target_pane[target_pane>=target_color_threshold] = 255\n",
    "\n",
    "# Image.fromarray(target_pane)"
   ]
  },
  {
   "cell_type": "markdown",
   "metadata": {},
   "source": [
    "## Locate targets"
   ]
  },
  {
   "cell_type": "code",
   "execution_count": 10,
   "metadata": {},
   "outputs": [],
   "source": [
    "targets_rect_coordinates = find_bounding_box(target_pane, (5,5), (100,100)) \n",
    "targets = segment_pictures(target_pane,targets_rect_coordinates,(30,30))"
   ]
  },
  {
   "cell_type": "code",
   "execution_count": 11,
   "metadata": {},
   "outputs": [],
   "source": [
    "# draw_bounding_box(target_pane, targets_rect_coordinates)"
   ]
  },
  {
   "cell_type": "markdown",
   "metadata": {},
   "source": [
    "## Locat the most similiar icon in main pane for each target"
   ]
  },
  {
   "cell_type": "code",
   "execution_count": 12,
   "metadata": {},
   "outputs": [],
   "source": [
    "# Rotate the icon by d degree each time and calculate the similarity between icon and target\n",
    "def calculate_max_matching(target,icon,d):\n",
    "    largest_val = 0\n",
    "    for degree in range(0,360,d):\n",
    "        tmp = ndimage.rotate(target, degree, reshape=False)\n",
    "        res = cv2.matchTemplate(icon,tmp,cv2.TM_CCOEFF_NORMED)\n",
    "        min_val, max_val, min_loc, max_loc = cv2.minMaxLoc(res)\n",
    "        if max_val > largest_val:\n",
    "            largest_val = max_val\n",
    "    return largest_val"
   ]
  },
  {
   "cell_type": "code",
   "execution_count": 13,
   "metadata": {
    "scrolled": true
   },
   "outputs": [],
   "source": [
    "# Calculate similarity matrix for each target, icon pair\n",
    "'''\n",
    "similarity_matrix = [[a1, a2, a3, a4, a5],\n",
    "                     [b1, b2, b3, b4, b5],\n",
    "                     [c1, c2, c3, c4, c5],\n",
    "                     [d1, d2, d3, d4, d5],\n",
    "                    ]\n",
    "                    \n",
    "There are 4 targets and 5 icons, so it is 4x5 matrix. For example, b3 denotes the similarity between second target and\n",
    "third icon\n",
    "'''\n",
    "\n",
    "similarity_matrix = []\n",
    "for target in targets:\n",
    "    similarity_per_target = []\n",
    "    for icon in icons:\n",
    "        similarity_per_target.append(calculate_max_matching(target,icon,6))\n",
    "    similarity_matrix.append(similarity_per_target)"
   ]
  },
  {
   "cell_type": "code",
   "execution_count": 14,
   "metadata": {
    "scrolled": true
   },
   "outputs": [],
   "source": [
    "# fig,ax = plt.subplots(1)\n",
    "# ax.imshow(main_pane)\n",
    "\n",
    "# Calculate Mapping\n",
    "target_candidates = [False for _ in range(len(targets))]\n",
    "icon_candidates = [False for _ in range(len(icons))]\n",
    "\n",
    "mapping = {}\n",
    "\n",
    "# Approach 1 (May not work, because collision may occur)\n",
    "# Using np.argsort(-arr)\n",
    "\n",
    "'''\n",
    "similarity_matrix = [[0.49798074, 0.61611921, 0.56135607, 0.43419564, 0.61747766],\n",
    "                     [0.5085994 , 0.53169155, 0.70087528, 0.30092609, 0.53550088],\n",
    "                     [0.62834615, 0.49904037, 0.46511394, 0.31213483, 0.46880326],\n",
    "                     [0.53429979, 0.59877342, 0.56217539, 0.37746215, 0.73305559]]\n",
    "\n",
    "\n",
    "np.argsort(np.array(similarity_matrix),axis=1) = [[3, 0, 2, 1, 4],\n",
    "                                                  [3, 0, 1, 4, 2],\n",
    "                                                  [3, 2, 4, 1, 0],\n",
    "                                                  [3, 0, 2, 1, 4]]\n",
    "\n",
    "In this approach, \n",
    "First target matches with fifth icon\n",
    "Second target matches with second icon\n",
    "Third target matches with fist icon\n",
    "Fourth target matches with fifth icon\n",
    "\n",
    "Collision happens! As both first target and fourth target matches the same icon\n",
    "'''\n",
    "\n",
    "\n",
    "# Sort the flatted similarity matrix in descending order, and assign the pair between target and icon if both of them\n",
    "# havem't been assigned.\n",
    "arr = np.array(similarity_matrix).flatten()\n",
    "arg_sorted = np.argsort(-arr)\n",
    "\n",
    "for e in arg_sorted:\n",
    "    col = e //len(icons)\n",
    "    row = e % len(icons)\n",
    "    \n",
    "    if target_candidates[col] == False and icon_candidates[row] == False:\n",
    "        target_candidates[col], icon_candidates[row] = True, True\n",
    "        mapping[col] = row\n",
    "\n",
    "# Circling the most similar icon,\n",
    "# blue circle: first target\n",
    "# red circle: second target\n",
    "# yellow circle: third target\n",
    "# green circle: fourth target\n",
    "# color_map = {1:'b',2:'r',3:'y',4:'g'}\n",
    "# for key in mapping:\n",
    "#     x,y,w,h = icons_rect_coordinates[mapping[key]]\n",
    "    \n",
    "#     # x,y is the coordinate of top left hand corner\n",
    "#     # Bounding box is 70x70, so centre of circle = (x+70/2, y+70/2), i.e. (x+35, y+35)\n",
    "#     centre_x = x+(w//2)\n",
    "#     centre_y = y+(h//2)\n",
    "#     # Plot circle\n",
    "#     circle = plt.Circle((centre_x,centre_y), 20, color=color_map[key+1], fill=False, linewidth=5)\n",
    "#     # Plot centre\n",
    "#     plt.plot([centre_x], [centre_y], marker='o', markersize=10, color=\"white\")\n",
    "#     ax.add_patch(circle)\n",
    "     \n",
    "# plt.show()"
   ]
  },
  {
   "cell_type": "code",
   "execution_count": 15,
   "metadata": {},
   "outputs": [],
   "source": [
    "# blue circle: first target\n",
    "# red circle: second target\n",
    "# yellow circle: third target\n",
    "# green circle: fourth target\n",
    "# Image.fromarray(img_grey[350:,:110]) "
   ]
  },
  {
   "cell_type": "markdown",
   "metadata": {},
   "source": [
    "## Click targets"
   ]
  },
  {
   "cell_type": "code",
   "execution_count": 16,
   "metadata": {},
   "outputs": [],
   "source": [
    "# # Uncomment this part for real Geetest CAPTCHA\n",
    "\n",
    "\n",
    "time.sleep(10)\n",
    "for i, target in enumerate(targets):\n",
    "    key = i\n",
    "    x,y,w,h = icons_rect_coordinates[mapping[key]]\n",
    "    \n",
    "    # x,y is the coordinate of top left hand corner\n",
    "    # Bounding box is 70x70, so centre of circle = (x+70/2, y+70/2), i.e. (x+35, y+35)\n",
    "    centre_x = x+(w//2)\n",
    "    centre_y = y+(h//2)\n",
    "    \n",
    "    ele=driver.find_element_by_xpath(u\"(.//*[normalize-space(text()) and normalize-space(.)='加载中...'])[1]/following::div[1]\")\n",
    "    action = webdriver.common.action_chains.ActionChains(driver)\n",
    "    action.move_to_element_with_offset(ele, centre_x, centre_y)\n",
    "    time.sleep(randint(100,700)/1000) # Random Pause between two consecutive clicks\n",
    "    action.click()\n",
    "    action.perform()\n",
    "\n",
    "# Click Ok button in CAPTCHA after some random pause\n",
    "time.sleep(randint(100,700)/1000)\n",
    "driver.find_element_by_xpath(u\"(.//*[normalize-space(text()) and normalize-space(.)='帮助反馈'])[1]/following::div[2]\").click()    "
   ]
  },
  {
   "cell_type": "code",
   "execution_count": null,
   "metadata": {},
   "outputs": [],
   "source": []
  },
  {
   "cell_type": "code",
   "execution_count": null,
   "metadata": {},
   "outputs": [],
   "source": []
  }
 ],
 "metadata": {
  "kernelspec": {
   "display_name": "Python 3",
   "language": "python",
   "name": "python3"
  },
  "language_info": {
   "codemirror_mode": {
    "name": "ipython",
    "version": 3
   },
   "file_extension": ".py",
   "mimetype": "text/x-python",
   "name": "python",
   "nbconvert_exporter": "python",
   "pygments_lexer": "ipython3",
   "version": "3.8.8"
  }
 },
 "nbformat": 4,
 "nbformat_minor": 2
}
